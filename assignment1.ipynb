{
  "nbformat": 4,
  "nbformat_minor": 0,
  "metadata": {
    "colab": {
      "provenance": [],
      "collapsed_sections": [
        "ZBld7V2Bnavw",
        "F9wrxzL4YUN1",
        "tBFwSaAKYo6T"
      ],
      "include_colab_link": true
    },
    "kernelspec": {
      "name": "python3",
      "display_name": "Python 3"
    },
    "language_info": {
      "name": "python"
    }
  },
  "cells": [
    {
      "cell_type": "markdown",
      "metadata": {
        "id": "view-in-github",
        "colab_type": "text"
      },
      "source": [
        "<a href=\"https://colab.research.google.com/github/w86w86/econ8310-assignment1/blob/main/assignment1.ipynb\" target=\"_parent\"><img src=\"https://colab.research.google.com/assets/colab-badge.svg\" alt=\"Open In Colab\"/></a>"
      ]
    },
    {
      "cell_type": "markdown",
      "source": [
        "#Assignment 1 - Forecast the # of taxi trips requested during each hour in a week"
      ],
      "metadata": {
        "id": "nlFbpY1-dQMy"
      }
    },
    {
      "cell_type": "markdown",
      "source": [
        "##Execution"
      ],
      "metadata": {
        "id": "USnJmXBC7bBU"
      }
    },
    {
      "cell_type": "code",
      "source": [
        "## Import statements\n",
        "import pandas as pd\n",
        "import numpy as np\n",
        "from prophet import Prophet\n",
        "\n",
        "## Import the dataset of #of taxi trips each hour in New York City,\n",
        "file = \"https://github.com/dustywhite7/econ8310-assignment1/raw/main/assignment_data_train.csv\"\n",
        "trip = pd.read_csv(file)\n",
        "\n",
        "## Keep only the dates and the y value\n",
        "trip = trip[['Timestamp','trips']]\n",
        "trip.Timestamp = pd.to_datetime(trip.Timestamp)\n",
        "\n",
        "## Prophet format using column ds and y\n",
        "trip=trip.rename(columns={'Timestamp':'ds','trips':'y'})\n",
        "\n",
        "## Prophet instance and fit to data / modelFit\n",
        "model = Prophet()\n",
        "modelFit = model.fit(trip)\n",
        "\n",
        "## Create timeline 31 days and forecast\n",
        "future = modelFit.make_future_dataframe(periods=744, freq='h', include_history=False)\n",
        "forecast = modelFit.predict(future)"
      ],
      "metadata": {
        "colab": {
          "base_uri": "https://localhost:8080/"
        },
        "id": "wHSubD68dSqI",
        "outputId": "31bd1db3-f76c-4f02-bc68-f30399ac9501"
      },
      "execution_count": 43,
      "outputs": [
        {
          "output_type": "stream",
          "name": "stderr",
          "text": [
            "INFO:prophet:Disabling yearly seasonality. Run prophet with yearly_seasonality=True to override this.\n",
            "DEBUG:cmdstanpy:input tempfile: /tmp/tmpqlols3i4/dmhylt18.json\n",
            "DEBUG:cmdstanpy:input tempfile: /tmp/tmpqlols3i4/tww4m8pk.json\n",
            "DEBUG:cmdstanpy:idx 0\n",
            "DEBUG:cmdstanpy:running CmdStan, num_threads: None\n",
            "DEBUG:cmdstanpy:CmdStan args: ['/usr/local/lib/python3.12/dist-packages/prophet/stan_model/prophet_model.bin', 'random', 'seed=10618', 'data', 'file=/tmp/tmpqlols3i4/dmhylt18.json', 'init=/tmp/tmpqlols3i4/tww4m8pk.json', 'output', 'file=/tmp/tmpqlols3i4/prophet_modeluscxxst4/prophet_model-20250917072540.csv', 'method=optimize', 'algorithm=lbfgs', 'iter=10000']\n",
            "07:25:40 - cmdstanpy - INFO - Chain [1] start processing\n",
            "INFO:cmdstanpy:Chain [1] start processing\n",
            "07:25:41 - cmdstanpy - INFO - Chain [1] done processing\n",
            "INFO:cmdstanpy:Chain [1] done processing\n"
          ]
        }
      ]
    },
    {
      "cell_type": "code",
      "source": [
        "pred = forecast.yhat.values\n",
        "\n",
        "## Replace the negative value with min of trip in an hour from our data\n",
        "pred = [max(min(trip.y), val) for val in pred]\n",
        "\n",
        "print(pred)"
      ],
      "metadata": {
        "colab": {
          "base_uri": "https://localhost:8080/"
        },
        "id": "a7iJzDMgioTn",
        "outputId": "4a74cec4-be93-4d62-90f0-1e532387e3e3"
      },
      "execution_count": 55,
      "outputs": [
        {
          "output_type": "stream",
          "name": "stdout",
          "text": [
            "[np.float64(7618.173261325992), np.float64(5137.799878266395), np.float64(2657.221235155728), np.float64(862.5983133588088), np.float64(622.0615299630026), np.float64(2323.1878633341084), np.float64(5432.466880498393), np.float64(8730.090174217145), np.float64(11086.572933106278), np.float64(12153.355469466596), np.float64(12411.553810279162), np.float64(12598.368131877553), np.float64(13067.043165176627), np.float64(13636.835141803982), np.float64(13979.425007708007), np.float64(14078.101012276053), np.float64(14273.787061355999), np.float64(14869.839151168431), np.float64(15727.331478061968), np.float64(16284.124028255581), np.float64(15989.554577890434), np.float64(14724.26516661284), np.float64(12803.310182515459), np.float64(10602.766349385412), np.float64(8241.461710554822), np.float64(5678.28943734351), np.float64(3119.164381804826), np.float64(1250.944139435669), np.float64(942.3756307830063), np.float64(2581.566879232396), np.float64(5635.4487897118115), np.float64(8884.561474544678), np.float64(11199.67387558064), np.float64(12232.38451609591), np.float64(12463.87248486089), np.float64(12631.307413222587), np.float64(13087.812539753575), np.float64(13652.435385983572), np.float64(13996.565710584442), np.float64(14103.123778459418), np.float64(14312.595249972697), np.float64(14927.83491515394), np.float64(15809.360765763722), np.float64(16394.43010005224), np.float64(16131.74047558343), np.float64(14901.265453734191), np.float64(13017.37214997499), np.float64(10855.440757335713), np.float64(8533.603013410435), np.float64(6010.065314002368), np.float64(3490.0742780399423), np.float64(1659.8464116380583), np.float64(1387.5227719907762), np.float64(3060.6482107702977), np.float64(6145.639906284391), np.float64(9422.579651725364), np.float64(11761.838575951577), np.float64(12814.682072208714), np.float64(13062.023990752306), np.float64(13240.838822447968), np.float64(13704.12594921184), np.float64(14270.88047727623), np.float64(14612.510329620149), np.float64(14712.022654445329), np.float64(14910.055889739639), np.float64(15509.67975562027), np.float64(16371.684727169326), np.float64(16933.652752601025), np.float64(16644.65211325632), np.float64(15385.066459057542), np.float64(13469.705131405752), np.float64(11274.415046295215), np.float64(8917.81121618288), np.float64(6358.591731488865), np.float64(3802.495117147595), np.float64(1936.2218330620362), np.float64(1628.38093497087), np.float64(3266.9615866151844), np.float64(6318.794245465333), np.float64(9564.33609184916), np.float64(11874.28947752515), np.float64(12900.201257743298), np.float64(13123.212145809319), np.float64(13280.464884576588), np.float64(13725.065373307269), np.float64(14276.051311379495), np.float64(14604.80807089917), np.float64(14694.254875994156), np.float64(14884.877637568694), np.float64(15479.530709917388), np.float64(16338.729102168782), np.float64(16899.72287823329), np.float64(16611.196595752917), np.float64(15353.103760514952), np.float64(13439.783339190704), np.float64(11246.57852260042), np.float64(8891.57472934573), np.float64(6332.922571300625), np.float64(3775.8035912505848), np.float64(1906.3604294017805), np.float64(1592.6523197122588), np.float64(3222.13548639296), np.float64(6261.133143016011), np.float64(9489.62954279373), np.float64(11777.896736642602), np.float64(12777.101787854372), np.float64(12968.063468882021), np.float64(13087.667133293953), np.float64(13488.831799434765), np.float64(13990.483921627583), np.float64(14263.977480467316), np.float64(14292.283403647916), np.float64(14416.02460928927), np.float64(14938.278896418195), np.float64(15719.871185711068), np.float64(16198.446829487875), np.float64(15823.168838777729), np.float64(14474.54901900909), np.float64(12467.560082443411), np.float64(10178.24897237406), np.float64(7725.46844281007), np.float64(5068.192681952609), np.float64(2412.4748704764806), np.float64(445.3684233801396), np.float64(35.87291291985093), np.float64(1572.4043577607445), np.float64(4522.254695221157), np.float64(7666.375009147716), np.float64(9875.991299095596), np.float64(10803.200669477197), np.float64(10929.71709823359), np.float64(10993.275609614768), np.float64(11347.589018858507), np.float64(11812.311851800567), np.float64(12059.451193058681), np.float64(12072.547590220009), np.float64(12192.702413582281), np.float64(12723.3739945018), np.float64(13525.664133531356), np.float64(14037.386772768878), np.float64(13707.761744612131), np.float64(12417.243637414222), np.float64(10480.632882700605), np.float64(8273.689319137879), np.float64(5914.8652834984205), np.float64(3362.6240086584994), np.float64(822.4011947452109), 2, 2, np.float64(383.9234601854114), np.float64(3483.0115358369394), np.float64(6782.365864679838), np.float64(9152.102782712689), np.float64(10243.160987934109), np.float64(10536.058721780546), np.float64(10767.309795973444), np.float64(11289.392500888744), np.float64(11920.725860252167), np.float64(12332.092846127758), np.float64(12505.833541357139), np.float64(12781.884510424827), np.float64(13462.5865649479), np.float64(14407.982383738688), np.float64(15054.895655370909), np.float64(14851.63453844977), np.float64(13677.829369211187), np.float64(11847.551623360174), np.float64(9735.934299141873), np.float64(7460.910697046205), np.float64(4980.537313971044), np.float64(2499.958670857339), np.float64(705.3357490690996), np.float64(464.7989656873706), np.float64(2165.925299041234), np.float64(5275.204316241882), np.float64(8572.827609937276), np.float64(10929.31036883225), np.float64(11996.092905182706), np.float64(12254.291245992992), np.float64(12441.105567583923), np.float64(12909.780600894886), np.float64(13479.572577536488), np.float64(13822.162443404035), np.float64(13920.838447999053), np.float64(14116.524497073042), np.float64(14712.576586883348), np.float64(15570.068913776218), np.float64(16126.86146399186), np.float64(15832.292013610222), np.float64(14567.002602303948), np.float64(12646.047618345194), np.float64(10445.503785103252), np.float64(8084.199146264758), np.float64(5521.026873047155), np.float64(2961.9018175451647), np.float64(1093.6815751477789), np.float64(785.1130664993943), np.float64(2424.3043149709883), np.float64(5478.186225454519), np.float64(8727.298910281283), np.float64(11042.41131130549), np.float64(12075.121951843645), np.float64(12306.6099205739), np.float64(12474.044848941176), np.float64(12930.549975480484), np.float64(13495.172821715907), np.float64(13839.303146277542), np.float64(13945.861214184863), np.float64(14155.332685701122), np.float64(14770.572350869374), np.float64(15652.098201478511), np.float64(16237.167535769217), np.float64(15974.477911305898), np.float64(14744.002889423875), np.float64(12860.109585698881), np.float64(10698.178193174), np.float64(8376.340449121257), np.float64(5852.802749706877), np.float64(3332.8117137788104), np.float64(1502.5838474054053), np.float64(1230.2602077046122), np.float64(2903.385646509043), np.float64(5988.377342027179), np.float64(9265.317087293663), np.float64(11604.576011676345), np.float64(12657.419507956096), np.float64(12904.76142646508), np.float64(13083.57625816534), np.float64(13546.863384937107), np.float64(14113.617913006514), np.float64(14455.247765315646), np.float64(14554.760090170998), np.float64(14752.793325471), np.float64(15352.417191335702), np.float64(16214.42216288401), np.float64(16776.39018831779), np.float64(16487.389548976695), np.float64(15227.803894749148), np.float64(13312.442567127533), np.float64(11117.15248201331), np.float64(8760.54865189316), np.float64(6201.329167192938), np.float64(3645.23255288783), np.float64(1778.9592687731201), np.float64(1471.1183706874926), np.float64(3109.699022353051), np.float64(6161.531681207224), np.float64(9407.07352758487), np.float64(11717.0269131611), np.float64(12742.938693492231), np.float64(12965.949581521596), np.float64(13123.202320313723), np.float64(13567.802809000079), np.float64(14118.788747111052), np.float64(14447.545506630193), np.float64(14536.992311720138), np.float64(14727.615073299205), np.float64(15322.268145633578), np.float64(16181.466537919718), np.float64(16742.460313951284), np.float64(16453.934031475026), np.float64(15195.841196239646), np.float64(13282.520774914727), np.float64(11089.315958297344), np.float64(8734.312165055851), np.float64(6175.660007033767), np.float64(3618.5410269528475), np.float64(1749.0978651128044), np.float64(1435.3897554374416), np.float64(3064.8729221328704), np.float64(6103.870578721988), np.float64(9332.366978531576), np.float64(11620.634172367876), np.float64(12619.839223569648), np.float64(12810.800904594878), np.float64(12930.404569027973), np.float64(13331.56923516075), np.float64(13833.221357324237), np.float64(14106.714916196528), np.float64(14135.020839372211), np.float64(14258.762045007585), np.float64(14781.016332071613), np.float64(15562.608621464366), np.float64(16041.184265207923), np.float64(15665.906274497169), np.float64(14317.286454730503), np.float64(12310.29751816371), np.float64(10020.98640807212), np.float64(7568.2058786493935), np.float64(4910.930117687479), np.float64(2255.212306177281), np.float64(288.10585908967914), 2, np.float64(1415.1417935024692), np.float64(4364.99213093293), np.float64(7509.112444887047), np.float64(9718.728734819571), np.float64(10645.938105191351), np.float64(10772.454533945518), np.float64(10836.01304535192), np.float64(11190.326454581926), np.float64(11655.049287500335), np.float64(11902.188628789549), np.float64(11915.285025945916), np.float64(12035.439849302176), np.float64(12566.111430216024), np.float64(13368.401569282276), np.float64(13880.124208485138), np.float64(13550.49918033282), np.float64(12259.981073137249), np.float64(10323.370318422732), np.float64(8116.426754837222), np.float64(5757.602719207612), np.float64(3205.3614443941105), np.float64(665.1386304488296), 2, 2, np.float64(226.66089577530147), np.float64(3325.7489715440697), np.float64(6625.103300418226), np.float64(8994.840218448358), np.float64(10085.898423627814), np.float64(10378.796157495352), np.float64(10610.047231691615), np.float64(11132.129936615087), np.float64(11763.463295941943), np.float64(12174.830281856459), np.float64(12348.570977060985), np.float64(12624.621946142477), np.float64(13305.324000666411), np.float64(14250.71981945652), np.float64(14897.633091090864), np.float64(14694.37197416063), np.float64(13520.566804936609), np.float64(11690.289059047433), np.float64(9578.671734857724), np.float64(7303.648132754062), np.float64(4823.274749672521), np.float64(2342.696106561768), np.float64(548.0731848000614), np.float64(307.53640141496726), np.float64(2008.66273478134), np.float64(5117.94175198599), np.float64(8415.565045675145), np.float64(10772.047804569002), np.float64(11838.830340897552), np.float64(12097.028681742693), np.float64(12283.843003298947), np.float64(12752.518036617992), np.float64(13322.310013264825), np.float64(13664.899879149209), np.float64(13763.575883710475), np.float64(13959.261932791982), np.float64(14555.314022600418), np.float64(15412.806349456601), np.float64(15969.598899710396), np.float64(15675.029449323349), np.float64(14409.740038028041), np.float64(12488.785054033171), np.float64(10288.241220818376), np.float64(7926.936581972251), np.float64(5363.76430890365), np.float64(2804.639253247804), np.float64(936.419010878144), np.float64(627.8505022253667), np.float64(2267.041750709581), np.float64(5320.923661197228), np.float64(8570.036346017887), np.float64(10885.148747040761), np.float64(11917.859387558394), np.float64(12149.3473563216), np.float64(12316.782284658813), np.float64(12773.287411206189), np.float64(13337.910257446805), np.float64(13682.04058200941), np.float64(13788.598649892563), np.float64(13998.070121422297), np.float64(14613.309786586695), np.float64(15494.835637195294), np.float64(16079.904971488268), np.float64(15817.215347013484), np.float64(14586.740325146646), np.float64(12702.847021382675), np.float64(10540.915628890605), np.float64(8219.077884830069), np.float64(5695.540185409523), np.float64(3175.5491494818098), np.float64(1345.3212831333076), np.float64(1072.9976434324035), np.float64(2746.1230822148063), np.float64(5831.114777572228), np.float64(9108.054523030716), np.float64(11447.31344740126), np.float64(12500.156943670907), np.float64(12747.49886218044), np.float64(12926.31369388361), np.float64(13389.600820652857), np.float64(13956.355348737849), np.float64(14297.985201047013), np.float64(14397.497525897506), np.float64(14595.530761191589), np.float64(15195.154627085347), np.float64(16057.159598598791), np.float64(16619.12762405414), np.float64(16330.126984696728), np.float64(15070.541330471406), np.float64(13155.180002848781), np.float64(10959.889917729337), np.float64(8603.28608761422), np.float64(6044.0666028948635), np.float64(3487.9699885922), np.float64(1621.696704486314), np.float64(1313.8558064148983), np.float64(2952.4364580605843), np.float64(6004.269116949752), np.float64(9249.810963305154), np.float64(11559.764348884977), np.float64(12585.676129206331), np.float64(12808.687017233518), np.float64(12965.939756000698), np.float64(13410.540244715712), np.float64(13961.526182842037), np.float64(14290.282942360878), np.float64(14379.729747437537), np.float64(14570.352509019178), np.float64(15165.005581382105), np.float64(16024.203973635074), np.float64(16585.197749678824), np.float64(16296.671467195432), np.float64(15038.578631962255), np.float64(13125.258210636286), np.float64(10932.053394015247), np.float64(8577.049600773222), np.float64(6018.397442737711), np.float64(3461.2784626588746), np.float64(1591.8353008278536), np.float64(1278.12719116689), np.float64(2907.610357837474), np.float64(5946.60801446563), np.float64(9175.104414249014), np.float64(11463.371608091089), np.float64(12462.576659282948), np.float64(12653.538340305862), np.float64(12773.142004744255), np.float64(13174.30667087278), np.float64(13675.95879305388), np.float64(13949.452351930617), np.float64(13977.758275101274), np.float64(14101.499480730537), np.float64(14623.753767818984), np.float64(15405.346057178494), np.float64(15883.921700941693), np.float64(15508.64371026244), np.float64(14160.023890451921), np.float64(12153.034953884006), np.float64(9863.723843787922), np.float64(7410.943314373318), np.float64(4753.6675533933785), np.float64(2097.9497419208146), np.float64(130.84329480473934), 2, np.float64(1257.8792292385751), np.float64(4207.729566672966), np.float64(7351.849880459663), np.float64(9561.466170541422), np.float64(10488.675540938491), np.float64(10615.1919696553), np.float64(10678.750481070001), np.float64(11033.063890308069), np.float64(11497.786723231671), np.float64(11744.926064485942), np.float64(11758.022461671422), np.float64(11878.177285034093), np.float64(12408.848865931659), np.float64(13211.139004997327), np.float64(13722.861644202421), np.float64(13393.236616052702), np.float64(12102.718508827296), np.float64(10166.107754144517), np.float64(7959.164190554455), np.float64(5600.340154917058), np.float64(3048.098880097389), np.float64(507.8760661874221), 2, 2, np.float64(69.39833151429775), np.float64(3168.486407287068), np.float64(6467.840736155), np.float64(8837.577654173252), np.float64(9928.635859372172), np.float64(10221.533593206199), np.float64(10452.784667409729), np.float64(10974.867372303099), np.float64(11606.20073167573), np.float64(12017.56771755185), np.float64(12191.308412789476), np.float64(12467.359381851062), np.float64(13148.06143638492), np.float64(14093.457255174355), np.float64(14740.370526810817), np.float64(14537.109409879184), np.float64(13363.304240623087), np.float64(11533.0264947674), np.float64(9421.409170575736), np.float64(7146.385568464299), np.float64(4666.0121853766), np.float64(2185.4335423020657), np.float64(390.81062051347544), np.float64(150.27383713178278), np.float64(1851.4001705210621), np.float64(4960.679187729476), np.float64(8258.30248141217), np.float64(10614.785240292173), np.float64(11681.567776645195), np.float64(11939.76611745391), np.float64(12126.580439018097), np.float64(12595.255472345261), np.float64(13165.04744899733), np.float64(13507.63731484739), np.float64(13606.3133194355), np.float64(13801.99936852595), np.float64(14398.051458278143), np.float64(15255.543785169219), np.float64(15812.336335425316), np.float64(15517.766885041769), np.float64(14252.477473833682), np.float64(12331.522489754387), np.float64(10130.978656520214), np.float64(7769.674017680598), np.float64(5206.501744607298), np.float64(2647.3766889516683), np.float64(779.1564465907704), np.float64(470.58793795214115), np.float64(2109.7791864484325), np.float64(5163.6610969045205), np.float64(8412.773781754448), np.float64(10727.88618276561), np.float64(11760.596823273527), np.float64(11992.08479203461), np.float64(12159.519720394193), np.float64(12616.024846932953), np.float64(13180.647693144718), np.float64(13524.778017739825), np.float64(13631.33608561801), np.float64(13840.807557141712), np.float64(14456.047222302332), np.float64(15337.57307294415), np.float64(15922.642407205414), np.float64(15659.952782735952), np.float64(14429.47776087146), np.float64(12545.58445710657), np.float64(10383.65306458947), np.float64(8061.815320540943), np.float64(5538.277621145153), np.float64(3018.286585324351), np.float64(1188.0587188466943), np.float64(915.7350791598619), np.float64(2588.860517953145), np.float64(5673.852213277924), np.float64(8950.791958767319), np.float64(11290.05088312603), np.float64(12342.894379385882), np.float64(12590.236297893212), np.float64(12769.051129619427), np.float64(13232.338256379098), np.float64(13799.09278440143), np.float64(14140.722636776638), np.float64(14240.234961621987), np.float64(14438.268196909867), np.float64(15037.892062800782), np.float64(15899.897034350797), np.float64(16461.865059770906), np.float64(16172.864420418526), np.float64(14913.278766195557), np.float64(12997.917438572023), np.float64(10802.627353431762), np.float64(8446.0235233245), np.float64(5886.804038634067), np.float64(3330.7074242929893), np.float64(1464.4341401959955), np.float64(1156.5932421388898), np.float64(2795.173893798449), np.float64(5847.006552657647), np.float64(9092.54839904086), np.float64(11402.501784608856), np.float64(12428.413564920429), np.float64(12651.424452945443), np.float64(12808.677191737077), np.float64(13253.277680441493), np.float64(13804.263618540688), np.float64(14133.020378091547), np.float64(14222.467183163519), np.float64(14413.089944739055), np.float64(15007.743017098295), np.float64(15866.94140931391), np.float64(16427.93518539682), np.float64(16139.40890290506), np.float64(14881.316067686119), np.float64(12967.995646466612), np.float64(10774.790829734353), np.float64(8419.787036484735), np.float64(5861.134878443234), np.float64(3304.015898361139), np.float64(1434.57273655455), np.float64(1120.864626892071), np.float64(2750.3477935750643), np.float64(5789.345450207122), np.float64(9017.84184998419), np.float64(11306.109043825083), np.float64(12305.314094998224), np.float64(12496.275776052717), np.float64(12615.87944046556), np.float64(13017.044106602181), np.float64(13518.696228788474), np.float64(13792.189787661056), np.float64(13820.495710806808), np.float64(13944.236916449654), np.float64(14466.49120353337), np.float64(15248.08349289229), np.float64(15726.65913665772), np.float64(15351.381145975305), np.float64(14002.761326177799), np.float64(11995.772389573754), np.float64(9706.461279633542), np.float64(7253.680750080292), np.float64(4596.404989094), np.float64(1940.687177621613), 2, 2, np.float64(1100.6166649746792), np.float64(4050.467002412998), np.float64(7194.58731619549), np.float64(9404.203606281662), np.float64(10331.412976655869), np.float64(10457.92940540831), np.float64(10521.487916787299), np.float64(10875.801326033547), np.float64(11340.52415896245), np.float64(11587.663500214465), np.float64(11600.759897379185), np.float64(11720.914720752056), np.float64(12251.58630164588), np.float64(13053.876440711152), np.float64(13565.599079918686), np.float64(13235.97405176445), np.float64(11945.455944551133), np.float64(10008.845189831689), np.float64(7801.901626271443), np.float64(5443.077590626247), np.float64(2890.8363158003995), np.float64(350.61350189138466), 2, 2, 2, np.float64(3011.223843030307), np.float64(6310.578171891979), np.float64(8680.315089805988), np.float64(9771.373295089117), np.float64(10064.271028954878), np.float64(10295.522103129972), np.float64(10817.604808029442), np.float64(11448.938167407372), np.float64(11860.305153283109), np.float64(12034.045848515854), np.float64(12310.096817571495), np.float64(12990.79887212958), np.float64(13936.194690887354), np.float64(14583.10796251464), np.float64(14379.84684560241), np.float64(13206.041676348508), np.float64(11375.763930491752), np.float64(9264.146606294767), np.float64(6989.123004185316), np.float64(4508.74962108125), np.float64(2028.1709780064948), np.float64(233.5480562267967), 2, np.float64(1694.1376062255404), np.float64(4803.416623470619), np.float64(8101.039917130254), np.float64(10457.522676017084), np.float64(11524.305212360043), np.float64(11782.503553166292), np.float64(11969.317874735625), np.float64(12437.992908061758), np.float64(13007.784884727946), np.float64(13350.374750575293), np.float64(13449.050755158492), np.float64(13644.736804242992), np.float64(14240.788894030342), np.float64(15098.281220885612), np.float64(15655.073771163708), np.float64(15360.504320763612), np.float64(14095.214909557777), np.float64(12174.25992547747), np.float64(9973.716092236315), np.float64(7612.411453542702), np.float64(5049.239180309525), np.float64(2490.114124653687), np.float64(621.8938823018598), np.float64(313.32537363775737), np.float64(1952.5166221546133), np.float64(5006.398532647233), np.float64(8255.511217473408), np.float64(10570.623618490314), np.float64(11603.334258988274), np.float64(11834.822227747001), np.float64(12002.257156111835), np.float64(12458.76228264682), np.float64(13023.385128875614), np.float64(13367.51545347189), np.float64(13474.073521345277), np.float64(13683.5449928631), np.float64(14298.78465805075), np.float64(15180.310508660932), np.float64(15765.37984294013), np.float64(15502.690218458421), np.float64(14272.215196596273), np.float64(12388.321892830461), np.float64(10226.390500306085), np.float64(7904.552756258427), np.float64(5381.0150568476865), np.float64(2861.0240210273505), np.float64(1030.7961545585986), np.float64(758.4725148860634), np.float64(2431.597953543379), np.float64(5516.5896490219375), np.float64(8793.529394486182), np.float64(11132.788318851597), np.float64(12185.631815080556), np.float64(12432.973733606323), np.float64(12611.788565336798), np.float64(13075.075692104365), np.float64(13641.830220132095), np.float64(13983.460072472753), np.float64(14082.972397348498), np.float64(14281.005632642293), np.float64(14880.629498517479), np.float64(15742.634470066932), np.float64(16304.602495489293), np.float64(16015.60185613856), np.float64(14756.016201886723), np.float64(12840.654874293272), np.float64(10645.364789146317)]\n"
          ]
        }
      ]
    },
    {
      "cell_type": "markdown",
      "source": [
        "#Tests From Dr White"
      ],
      "metadata": {
        "id": "IiekIaNkkss5"
      }
    },
    {
      "cell_type": "markdown",
      "source": [
        "###imports and Run Function Check"
      ],
      "metadata": {
        "id": "kqB94rCuSj-o"
      }
    },
    {
      "cell_type": "code",
      "source": [
        "#!pip install pygam"
      ],
      "metadata": {
        "collapsed": true,
        "id": "Jmk22G8oUTCd"
      },
      "execution_count": null,
      "outputs": []
    },
    {
      "cell_type": "code",
      "source": [
        "import unittest\n",
        "import patsy as pt\n",
        "from pygam import LinearGAM, f, s, l\n",
        "import numpy as np\n",
        "import pandas as pd\n",
        "import statsmodels as statsmodels\n",
        "import pygam\n",
        "from statsmodels.tsa.holtwinters import ExponentialSmoothing as ES\n",
        "import prophet\n",
        "import statsmodels.tsa.holtwinters as hw\n",
        "from statsmodels.tsa.statespace.varmax import VARMAXResultsWrapper\n",
        "from statsmodels.tsa.vector_ar.var_model import VARResultsWrapper\n",
        "\n",
        "# Import your code from parent directory\n",
        "import os\n",
        "import sys\n",
        "import inspect\n",
        "\n",
        "currentdir = os.path.dirname(os.path.abspath(inspect.getfile(inspect.currentframe())))\n",
        "parentdir = os.path.dirname(currentdir)\n",
        "sys.path.insert(0, parentdir)\n",
        "\n",
        "#from assignment1 import model, modelFit, pred"
      ],
      "metadata": {
        "collapsed": true,
        "id": "FnHK9YUK1XZ0"
      },
      "execution_count": 57,
      "outputs": []
    },
    {
      "cell_type": "code",
      "source": [
        "#bool(modelFit.history) ??"
      ],
      "metadata": {
        "id": "MeZlR4vsZ0ZT",
        "outputId": "71904e96-0a65-43ef-bbb3-9caeb883c981",
        "colab": {
          "base_uri": "https://localhost:8080/",
          "height": 263
        }
      },
      "execution_count": 46,
      "outputs": [
        {
          "output_type": "error",
          "ename": "ValueError",
          "evalue": "The truth value of a DataFrame is ambiguous. Use a.empty, a.bool(), a.item(), a.any() or a.all().",
          "traceback": [
            "\u001b[0;31m---------------------------------------------------------------------------\u001b[0m",
            "\u001b[0;31mValueError\u001b[0m                                Traceback (most recent call last)",
            "\u001b[0;32m/tmp/ipython-input-847617544.py\u001b[0m in \u001b[0;36m<cell line: 0>\u001b[0;34m()\u001b[0m\n\u001b[0;32m----> 1\u001b[0;31m \u001b[0mbool\u001b[0m\u001b[0;34m(\u001b[0m\u001b[0mmodelFit\u001b[0m\u001b[0;34m.\u001b[0m\u001b[0mhistory\u001b[0m\u001b[0;34m)\u001b[0m\u001b[0;34m\u001b[0m\u001b[0;34m\u001b[0m\u001b[0m\n\u001b[0m",
            "\u001b[0;32m/usr/local/lib/python3.12/dist-packages/pandas/core/generic.py\u001b[0m in \u001b[0;36m__nonzero__\u001b[0;34m(self)\u001b[0m\n\u001b[1;32m   1575\u001b[0m     \u001b[0;34m@\u001b[0m\u001b[0mfinal\u001b[0m\u001b[0;34m\u001b[0m\u001b[0;34m\u001b[0m\u001b[0m\n\u001b[1;32m   1576\u001b[0m     \u001b[0;32mdef\u001b[0m \u001b[0m__nonzero__\u001b[0m\u001b[0;34m(\u001b[0m\u001b[0mself\u001b[0m\u001b[0;34m)\u001b[0m \u001b[0;34m->\u001b[0m \u001b[0mNoReturn\u001b[0m\u001b[0;34m:\u001b[0m\u001b[0;34m\u001b[0m\u001b[0;34m\u001b[0m\u001b[0m\n\u001b[0;32m-> 1577\u001b[0;31m         raise ValueError(\n\u001b[0m\u001b[1;32m   1578\u001b[0m             \u001b[0;34mf\"The truth value of a {type(self).__name__} is ambiguous. \"\u001b[0m\u001b[0;34m\u001b[0m\u001b[0;34m\u001b[0m\u001b[0m\n\u001b[1;32m   1579\u001b[0m             \u001b[0;34m\"Use a.empty, a.bool(), a.item(), a.any() or a.all().\"\u001b[0m\u001b[0;34m\u001b[0m\u001b[0;34m\u001b[0m\u001b[0m\n",
            "\u001b[0;31mValueError\u001b[0m: The truth value of a DataFrame is ambiguous. Use a.empty, a.bool(), a.item(), a.any() or a.all()."
          ]
        }
      ]
    },
    {
      "cell_type": "code",
      "source": [
        "# Run the checks\n",
        "def checkNumbers(series):\n",
        "  for i in series:\n",
        "    if not isinstance(i, (float, int)):\n",
        "      return False\n",
        "  return True\n",
        "\n",
        "\n",
        "def test_valid_model():\n",
        "    return ( isinstance(model, prophet.forecaster.Prophet), \"Make sure that you are using a model\\ncovered in class in the variable 'model'.\")\n",
        "\n",
        "def test_fitted_model():\n",
        "    if isinstance(modelFit, VARResultsWrapper) or isinstance(modelFit, VARMAXResultsWrapper) or isinstance(modelFit, hw.results.HoltWintersResultsWrapper):\n",
        "        return (True)\n",
        "    elif hasattr(modelFit, '_is_fitted'):\n",
        "        if modelFit._is_fitted:\n",
        "            return (True)\n",
        "    elif hasattr(modelFit, 'history'):\n",
        "        return (isinstance(modelFit.history, pd.DataFrame))\n",
        "    else:\n",
        "        print(\"Make sure that you store your fitted model in the variable 'modelFit'.\")\n",
        "        return (False)\n",
        "\n",
        "def test_valid_pred():\n",
        "  return (len(np.squeeze(pred))==744 and checkNumbers(np.squeeze(pred))), \"Make sure your prediction consists of integers\\nor floating point numbers, and is a list or array of 744\\nfuture predictions!\"\n",
        "\n",
        "def test_accuracy_level_1():\n",
        "  dataTest = pd.read_csv(currentdir + \"/testData.csv\")['trips']\n",
        "  rmse = sum([(np.squeeze(pred)[i]-dataTest[i])**2 for i in range(len(np.squeeze(pred)))])\n",
        "  rmse = np.sqrt(rmse)*1/744\n",
        "\n",
        "  return (rmse<220)\n",
        "\n",
        "def test_accuracy_level_2():\n",
        "  dataTest = pd.read_csv(currentdir + \"/testData.csv\")['trips']\n",
        "  rmse = sum([(np.squeeze(pred)[i]-dataTest[i])**2 for i in range(len(np.squeeze(pred)))])\n",
        "  rmse = np.sqrt(rmse)*1/744\n",
        "\n",
        "  return (rmse<185)\n",
        "\n",
        "def test_accuracy_level_3():\n",
        "  dataTest = pd.read_csv(currentdir + \"/testData.csv\")['trips']\n",
        "  rmse = sum([(np.squeeze(pred)[i]-dataTest[i])**2 for i in range(len(np.squeeze(pred)))])\n",
        "  rmse = np.sqrt(rmse)*1/744\n",
        "\n",
        "  return (rmse<171)\n",
        "\n",
        "\n",
        "#plt = model.plot(forecast)"
      ],
      "metadata": {
        "id": "GnQRvggVT0st"
      },
      "execution_count": 61,
      "outputs": []
    },
    {
      "cell_type": "markdown",
      "source": [
        "###run all tests if TRUE"
      ],
      "metadata": {
        "id": "qF8b3IsPTn8m"
      }
    },
    {
      "cell_type": "code",
      "source": [
        "test_valid_model()"
      ],
      "metadata": {
        "colab": {
          "base_uri": "https://localhost:8080/"
        },
        "id": "zdcVEDqZTWC_",
        "outputId": "932b46f0-cd87-425a-b38c-92e611f7f343"
      },
      "execution_count": 62,
      "outputs": [
        {
          "output_type": "execute_result",
          "data": {
            "text/plain": [
              "(True,\n",
              " \"Make sure that you are using a model\\ncovered in class in the variable 'model'.\")"
            ]
          },
          "metadata": {},
          "execution_count": 62
        }
      ]
    },
    {
      "cell_type": "code",
      "source": [
        "test_fitted_model()"
      ],
      "metadata": {
        "colab": {
          "base_uri": "https://localhost:8080/"
        },
        "id": "ZkgAHjyiTbJW",
        "outputId": "97b12fe0-367d-43aa-f39a-4798f275b6f6"
      },
      "execution_count": 63,
      "outputs": [
        {
          "output_type": "execute_result",
          "data": {
            "text/plain": [
              "True"
            ]
          },
          "metadata": {},
          "execution_count": 63
        }
      ]
    },
    {
      "cell_type": "code",
      "source": [
        "test_valid_pred()"
      ],
      "metadata": {
        "colab": {
          "base_uri": "https://localhost:8080/"
        },
        "id": "76zboMKjTcbm",
        "outputId": "24735d9d-22b3-479f-820f-d0f894a02c8c"
      },
      "execution_count": 64,
      "outputs": [
        {
          "output_type": "execute_result",
          "data": {
            "text/plain": [
              "(True,\n",
              " 'Make sure your prediction consists of integers\\nor floating point numbers, and is a list or array of 744\\nfuture predictions!')"
            ]
          },
          "metadata": {},
          "execution_count": 64
        }
      ]
    },
    {
      "cell_type": "code",
      "source": [
        "test_accuracy_level_1()"
      ],
      "metadata": {
        "colab": {
          "base_uri": "https://localhost:8080/"
        },
        "id": "A3jPIz0oTcJH",
        "outputId": "2b78aeab-fdfd-48a7-d8c7-b90facc9d1cd"
      },
      "execution_count": 65,
      "outputs": [
        {
          "output_type": "execute_result",
          "data": {
            "text/plain": [
              "np.True_"
            ]
          },
          "metadata": {},
          "execution_count": 65
        }
      ]
    },
    {
      "cell_type": "code",
      "source": [
        "test_accuracy_level_2()"
      ],
      "metadata": {
        "colab": {
          "base_uri": "https://localhost:8080/"
        },
        "id": "tGvvndpRThm2",
        "outputId": "09535a3e-378c-4123-c025-ed7520fa0c44"
      },
      "execution_count": 66,
      "outputs": [
        {
          "output_type": "execute_result",
          "data": {
            "text/plain": [
              "np.True_"
            ]
          },
          "metadata": {},
          "execution_count": 66
        }
      ]
    },
    {
      "cell_type": "code",
      "source": [
        "test_accuracy_level_3()"
      ],
      "metadata": {
        "colab": {
          "base_uri": "https://localhost:8080/"
        },
        "id": "jkdsEr2hTg--",
        "outputId": "da9e882b-5fd0-4c7f-e0da-6da480f0f9b8"
      },
      "execution_count": 67,
      "outputs": [
        {
          "output_type": "execute_result",
          "data": {
            "text/plain": [
              "np.True_"
            ]
          },
          "metadata": {},
          "execution_count": 67
        }
      ]
    }
  ]
}